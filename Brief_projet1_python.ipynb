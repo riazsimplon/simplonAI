{
 "cells": [
  {
   "cell_type": "markdown",
   "metadata": {},
   "source": [
    "<h3 style = \"text-decoration: underline\"><center> Brief project: Prise en main du langage Python </center></h3>"
   ]
  },
  {
   "cell_type": "markdown",
   "metadata": {},
   "source": [
    "<h5> Exercice 1- Le présent de l'indicatif : </h5>"
   ]
  },
  {
   "cell_type": "markdown",
   "metadata": {},
   "source": [
    "Ecrire un programme qui demande à un utilisateur de saisir un verbe du premier groupe et affiche la conjugaison du verbe au présent de l’indicatif."
   ]
  },
  {
   "cell_type": "code",
   "execution_count": 20,
   "metadata": {},
   "outputs": [
    {
     "name": "stdout",
     "output_type": "stream",
     "text": [
      "Donner un verbe de 1er groupe: marcher\n",
      "Voici votre verbe conjugué au présent de l'indicatif: \n",
      "Je marche\n",
      "Tu marches\n",
      "Il/elle marche\n",
      "Nous marchons\n",
      "Vous marchez\n",
      "Ils/elles marchent\n"
     ]
    }
   ],
   "source": [
    "verbe = input(\"Donner un verbe de 1er groupe: \")\n",
    "racine = verbe[0:-2]\n",
    "\n",
    "je = \"Je \"+f'{racine}e'\n",
    "tu = \"Tu \"+f'{racine}es'\n",
    "il = \"Il/elle \"+f'{racine}e'\n",
    "nous = \"Nous \"+ f'{racine}ons'\n",
    "vous = \"Vous \"+ f'{racine}ez'\n",
    "ils = \"Ils/elles \"+ f'{racine}ent'\n",
    "\n",
    "# Pour répondre à l'exception des verbe avec un \"g\" comme manger\n",
    "exception = verbe[-3]\n",
    "if exception == \"g\": \n",
    "    nous = \"Nous \"+ f'{racine}eons'\n",
    "\n",
    "print(\"Voici votre verbe conjugué au présent de l'indicatif: \")\n",
    "print(je)\n",
    "print(tu)\n",
    "print(il)\n",
    "print(nous)\n",
    "print(vous)\n",
    "print(ils)"
   ]
  },
  {
   "cell_type": "markdown",
   "metadata": {},
   "source": [
    "<h5> Exercice 2- Distance de Hamming entre deux mots : </h5>"
   ]
  },
  {
   "cell_type": "markdown",
   "metadata": {},
   "source": [
    "Ecrire un programme qui demande à un utilisateur de saisir deux mots de même longueur et retourne la distance de Hamming. Idéalement, si les deux mots saisis ne sont pas de même longueur elle retournera un message d’erreur."
   ]
  },
  {
   "cell_type": "code",
   "execution_count": 27,
   "metadata": {},
   "outputs": [
    {
     "name": "stdout",
     "output_type": "stream",
     "text": [
      "Donner un premier mot: japon\n",
      "Donner un deuxième mot de même longueur que le premier: savon\n",
      "La distance de Hamming entre le mot japon et savon est de: 2.\n"
     ]
    }
   ],
   "source": [
    "first_word = input(\"Donner un premier mot: \")\n",
    "second_word = input(\"Donner un deuxième mot de même longueur que le premier: \")\n",
    "\n",
    "if len(first_word) != len(second_word): \n",
    "    print(\"Erreur: Vous devez donner deux mots de même longueur.\")\n",
    "\n",
    "# Création d'une liste qui contient les index des lettres différentes entre les deux mots\n",
    "errors_index = []\n",
    "for i in range(len(first_word)): \n",
    "    if first_word[i] != second_word[i]: \n",
    "        errors_index.append(i)\n",
    "\n",
    "# Comptage de la longueur de la liste contenant les erreurs\n",
    "number_of_errors = len(errors_index)\n",
    "print(f'La distance de Hamming entre le mot {first_word} et {second_word} est de: {number_of_errors}.')"
   ]
  },
  {
   "cell_type": "markdown",
   "metadata": {},
   "source": [
    "<h5> Exercice 3- Afficher un mot à l'envers : </h5>"
   ]
  },
  {
   "cell_type": "markdown",
   "metadata": {},
   "source": [
    "Demandez à l’utilisateur d’entrer un mot au clavier. Ensuite, écrivez-le à l’envers, c’est-à-dire de droite à gauche."
   ]
  },
  {
   "cell_type": "code",
   "execution_count": 63,
   "metadata": {},
   "outputs": [
    {
     "name": "stdout",
     "output_type": "stream",
     "text": [
      "Donner un mot que vous voulez afficher à l'envers: mohammad\n",
      "Votre mot écrit à l'envers est: \n",
      "dammahom"
     ]
    }
   ],
   "source": [
    "word = input(\"Donner un mot que vous voulez afficher à l'envers: \")\n",
    "\n",
    "print(\"Votre mot écrit à l'envers est: \")\n",
    "for i in range(len(word)): \n",
    "    reverse = word[-i-1]\n",
    "    print(reverse, end = \"\")"
   ]
  },
  {
   "cell_type": "markdown",
   "metadata": {},
   "source": [
    "<h5> Exercice 4- Calculer les solutions d'un polynome de second degré : </h5>"
   ]
  },
  {
   "cell_type": "markdown",
   "metadata": {},
   "source": [
    "Calculer les solutions, si elles existe, du polynôme ax2+ bx + c = 0"
   ]
  },
  {
   "cell_type": "code",
   "execution_count": 70,
   "metadata": {},
   "outputs": [
    {
     "name": "stdout",
     "output_type": "stream",
     "text": [
      "Donner la valeur de a: 3\n",
      "Donner la valeur de b: -7\n",
      "Donner la valeur de c: -23\n",
      "La valeur du delta est: 325.0\n",
      "Comme le delta est positif, l'équation admet deux solutions: \n",
      "x1 : -1.838.\n",
      "x2 : 4.171.\n"
     ]
    }
   ],
   "source": [
    "import math\n",
    "\n",
    "a = input(\"Donner la valeur de a: \")\n",
    "a = float(a)\n",
    "b = input(\"Donner la valeur de b: \")\n",
    "b = float(b)\n",
    "c = input(\"Donner la valeur de c: \")\n",
    "c = float(c)\n",
    "\n",
    "\n",
    "delta = (b*b)-(4*a*c)\n",
    "\n",
    "print(f'La valeur du delta est: {delta}')\n",
    "\n",
    "if delta < 0: \n",
    "    print(\"Comme le delta est négatif, l’équation n’admet pas de solution dans l’ensemble des nombres réels.\")\n",
    "    \n",
    "elif delta == 0: \n",
    "    solution = -b/(2*a)\n",
    "    print(f\"Comme le delta est nul, la solution de l'équation est: {solution}.\")\n",
    "    \n",
    "else: \n",
    "    racine_delta = math.sqrt(delta)\n",
    "    solution1 = (-b - racine_delta)/(2*a)\n",
    "    solution2 = (-b + racine_delta)/(2*a)\n",
    "    print(\"Comme le delta est positif, l'équation admet deux solutions: \")\n",
    "    print(f\"x1 : {round(solution1,3)}.\")\n",
    "    print(f\"x2 : {round(solution2,3)}.\")"
   ]
  },
  {
   "cell_type": "markdown",
   "metadata": {},
   "source": [
    "<h5> Exercice 5- Additionner les n premiers entiers : </h5>"
   ]
  },
  {
   "cell_type": "markdown",
   "metadata": {},
   "source": [
    "L’utilisateur entre un nombre n au clavier. Vous devez calculer la somme des n premiers entiers : 1+ ... + n, et l’afficher."
   ]
  },
  {
   "cell_type": "code",
   "execution_count": 58,
   "metadata": {},
   "outputs": [
    {
     "name": "stdout",
     "output_type": "stream",
     "text": [
      "Donner un nombre entier dont vous voulez la somme des n premiers entiers: 4\n",
      "La somme des n premiers entiers que vous avez demandé est: 10.\n"
     ]
    }
   ],
   "source": [
    "import math\n",
    "number = input(\"Donner un nombre entier dont vous voulez la somme des n premiers entiers: \")\n",
    "number = int(number)\n",
    "\n",
    "# Création d'une liste contenant tous les nombres jusqu'au nombre choisi\n",
    "adding_number = []\n",
    "for i in range (1, number+1): \n",
    "    adding_number.append(i)\n",
    "\n",
    "# Addition de tous les nombres de la liste\n",
    "result = sum(adding_number)\n",
    "print(f'La somme des n premiers entiers que vous avez demandé est: {result}.')"
   ]
  },
  {
   "cell_type": "markdown",
   "metadata": {},
   "source": [
    "<h5> Exercice 6- L'infiniment petit : </h5>"
   ]
  },
  {
   "cell_type": "markdown",
   "metadata": {},
   "source": [
    "Vous allez diviser successivement par 2 la valeur 1, ceci 50 fois. À chaque fois, affichez le résultat sous la forme d’un nombre ayant 50 chiffres après la virgule."
   ]
  },
  {
   "cell_type": "code",
   "execution_count": 72,
   "metadata": {},
   "outputs": [
    {
     "name": "stdout",
     "output_type": "stream",
     "text": [
      "XX01234567890123456789012345678901234567890123456789\n",
      "0.50000000000000000000000000000000000000000000000000\n",
      "0.25000000000000000000000000000000000000000000000000\n",
      "0.12500000000000000000000000000000000000000000000000\n",
      "0.06250000000000000000000000000000000000000000000000\n",
      "0.03125000000000000000000000000000000000000000000000\n",
      "0.01562500000000000000000000000000000000000000000000\n",
      "0.00781250000000000000000000000000000000000000000000\n",
      "0.00390625000000000000000000000000000000000000000000\n",
      "0.00195312500000000000000000000000000000000000000000\n",
      "0.00097656250000000000000000000000000000000000000000\n",
      "0.00048828125000000000000000000000000000000000000000\n",
      "0.00024414062500000000000000000000000000000000000000\n",
      "0.00012207031250000000000000000000000000000000000000\n",
      "0.00006103515625000000000000000000000000000000000000\n",
      "0.00003051757812500000000000000000000000000000000000\n",
      "0.00001525878906250000000000000000000000000000000000\n",
      "0.00000762939453125000000000000000000000000000000000\n",
      "0.00000381469726562500000000000000000000000000000000\n",
      "0.00000190734863281250000000000000000000000000000000\n",
      "0.00000095367431640625000000000000000000000000000000\n",
      "0.00000047683715820312500000000000000000000000000000\n",
      "0.00000023841857910156250000000000000000000000000000\n",
      "0.00000011920928955078125000000000000000000000000000\n",
      "0.00000005960464477539062500000000000000000000000000\n",
      "0.00000002980232238769531250000000000000000000000000\n",
      "0.00000001490116119384765625000000000000000000000000\n",
      "0.00000000745058059692382812500000000000000000000000\n",
      "0.00000000372529029846191406250000000000000000000000\n",
      "0.00000000186264514923095703125000000000000000000000\n",
      "0.00000000093132257461547851562500000000000000000000\n",
      "0.00000000046566128730773925781250000000000000000000\n",
      "0.00000000023283064365386962890625000000000000000000\n",
      "0.00000000011641532182693481445312500000000000000000\n",
      "0.00000000005820766091346740722656250000000000000000\n",
      "0.00000000002910383045673370361328125000000000000000\n",
      "0.00000000001455191522836685180664062500000000000000\n",
      "0.00000000000727595761418342590332031250000000000000\n",
      "0.00000000000363797880709171295166015625000000000000\n",
      "0.00000000000181898940354585647583007812500000000000\n",
      "0.00000000000090949470177292823791503906250000000000\n",
      "0.00000000000045474735088646411895751953125000000000\n",
      "0.00000000000022737367544323205947875976562500000000\n",
      "0.00000000000011368683772161602973937988281250000000\n",
      "0.00000000000005684341886080801486968994140625000000\n",
      "0.00000000000002842170943040400743484497070312500000\n",
      "0.00000000000001421085471520200371742248535156250000\n",
      "0.00000000000000710542735760100185871124267578125000\n",
      "0.00000000000000355271367880050092935562133789062500\n",
      "0.00000000000000177635683940025046467781066894531250\n",
      "0.00000000000000088817841970012523233890533447265625\n"
     ]
    }
   ],
   "source": [
    "x = 1\n",
    "repeat = 1\n",
    "\n",
    "# Création d'une boucle while permettant la répétition. \n",
    "#{:.50f} signifie noter 50 chiffres de décimaux. \n",
    "\n",
    "first = (\"XX\" +\"0123456789\"*5)\n",
    "print(first)\n",
    "while repeat < 51:\n",
    "    x = x/2\n",
    "    repeat = repeat +1 \n",
    "    print('{:.50f}'.format(x))"
   ]
  },
  {
   "cell_type": "markdown",
   "metadata": {},
   "source": [
    "<h5> Exercice 7- Compter les nombres à deux chiffres ayant le chiffre 7 : </h5>"
   ]
  },
  {
   "cell_type": "code",
   "execution_count": 73,
   "metadata": {},
   "outputs": [
    {
     "name": "stdout",
     "output_type": "stream",
     "text": [
      "Donner un nombre: 99\n",
      "Jusqu'au nombre 99 que vous avez choisi, il y a 18 nombres comportant au moins un 7.\n"
     ]
    }
   ],
   "source": [
    "# Compter les nombres à deux chiffres ayant le chiffre 7\n",
    "nombre = input(\"Donner un nombre: \")\n",
    "nombre = int(nombre)\n",
    "\n",
    "# Création d'une liste contenant tous les nombres jusqu'au nombre donné par l'utilisateur\n",
    "number_list = []\n",
    "for i in range(10, nombre+1): \n",
    "    number_list.append(i)\n",
    "\n",
    "# Création de deux listes contenant les dizaines et les unités jusqu'au nombre donné par l'utilisateur\n",
    "# Ensuite on vérifiera si ces deux listes contiennent un 7\n",
    "dizaine_list = []\n",
    "unite_list = []\n",
    "for i in number_list: \n",
    "    dizaine = i//10\n",
    "    dizaine_list.append(dizaine)\n",
    "    unite = i -(dizaine*10)\n",
    "    unite_list.append(unite)\n",
    "\n",
    "# Création de deux listes contenant les dizaines avec des 7 et les unités avec des 7\n",
    "dizaine_with_seven = []\n",
    "unite_with_seven = []\n",
    "for i in range(len(number_list)): \n",
    "    if dizaine_list[i] == 7: \n",
    "        dizaine_with_seven.append(dizaine_list[i])\n",
    "    if unite_list[i] == 7: \n",
    "        unite_with_seven.append(unite_list[i])\n",
    "\n",
    "# Compte le nombre de nombres contenant un 7 en dizaine et un 7 en unité\n",
    "numbers_with_seven = len(dizaine_with_seven) + len(unite_with_seven)\n",
    "\n",
    "# Cas particulier du 77 pour éviter de le compter 2 fois\n",
    "if nombre >= 77:\n",
    "    number_with_seven = numbers_with_seven - 1\n",
    "\n",
    "print(f\"Jusqu'au nombre {nombre} que vous avez choisi, il y a {number_with_seven} nombres comportant au moins un 7.\")"
   ]
  },
  {
   "cell_type": "markdown",
   "metadata": {},
   "source": [
    "<h5> Exercice 7BIS- Compter les nombres à deux chiffres ayant le chiffre 7 : </h5>"
   ]
  },
  {
   "cell_type": "markdown",
   "metadata": {},
   "source": [
    "Il s'agit d'une deuxième méthode plus courte et plus efficace. "
   ]
  },
  {
   "cell_type": "code",
   "execution_count": 78,
   "metadata": {},
   "outputs": [
    {
     "name": "stdout",
     "output_type": "stream",
     "text": [
      "Donner un nombre: 27\n",
      "Jusqu'au nombre 27 que vous avez choisi, il y a 2 nombres comportant au moins un 7.\n"
     ]
    }
   ],
   "source": [
    "nombre = int(input(\"Donner un nombre: \"))\n",
    "\n",
    "# Initialisation d'un compteur qui va compter le nombre de nombre satisfaisant la condition. \n",
    "compteur = 0 \n",
    "\n",
    "# Condition en une ligne avec les deux conditions réunis par OR et ne comptant pas 77 comme 2 nombres ayant 7\n",
    "for i in range(10, nombre+1): \n",
    "    if i //10 == 7 or i%10 ==7: \n",
    "        compteur = compteur + 1\n",
    "        \n",
    "print(f\"Jusqu'au nombre {nombre} que vous avez choisi, il y a {compteur} nombres comportant au moins un 7.\")"
   ]
  },
  {
   "cell_type": "markdown",
   "metadata": {},
   "source": [
    "<h5> Exercice 8- Compter les consonnes dans un mot : </h5>"
   ]
  },
  {
   "cell_type": "code",
   "execution_count": 80,
   "metadata": {},
   "outputs": [
    {
     "name": "stdout",
     "output_type": "stream",
     "text": [
      "Donner un mot dont vous voulez compter le nombre de consonnes: mohammad\n",
      "Les voyelles dans votre mot sont: ['O', 'A', 'A'].\n",
      "Le nombre de consonnes dans votre mot est de: 5.\n"
     ]
    }
   ],
   "source": [
    "# On passe les mots en majuscule avec la méthode .upper() \n",
    "word = input(\"Donner un mot dont vous voulez compter le nombre de consonnes: \")\n",
    "word = word.upper()\n",
    "\n",
    "# Création d'une liste qui répertorie les voyelles du mots \n",
    "word_voyelle = []\n",
    "for i in range(len(word)): \n",
    "    if word[i] == \"A\": \n",
    "        word_voyelle.append(word[i])\n",
    "    elif word[i] == \"E\": \n",
    "        word_voyelle.append(word[i])\n",
    "    elif word[i] == \"I\": \n",
    "        word_voyelle.append(word[i])\n",
    "    elif word[i] == \"O\":\n",
    "        word_voyelle.append(word[i])\n",
    "    elif word[i] == \"U\": \n",
    "        word_voyelle.append(word[i])\n",
    "    elif word[i] == \"Y\": \n",
    "        word_voyelle.append(word[i])\n",
    "print(f'Les voyelles dans votre mot sont: {word_voyelle}.')\n",
    "\n",
    "# Compte le nombre de consonnes en soustrayant le nombre de voyelle de la longueur du mot\n",
    "number_voyelle = len(word_voyelle)\n",
    "word_length = len(word)\n",
    "number_consonnes = word_length - number_voyelle\n",
    "print(f'Le nombre de consonnes dans votre mot est de: {number_consonnes}.')"
   ]
  },
  {
   "cell_type": "markdown",
   "metadata": {},
   "source": [
    "<h5> Exercice 8BIS- Compter les consonnes dans un mot : </h5>"
   ]
  },
  {
   "cell_type": "markdown",
   "metadata": {},
   "source": [
    "Il s'agit d'une deuxième méthode plus courte et plus efficace."
   ]
  },
  {
   "cell_type": "code",
   "execution_count": 83,
   "metadata": {},
   "outputs": [
    {
     "name": "stdout",
     "output_type": "stream",
     "text": [
      "Donner un mot dont vous voulez compter le nombre de consonnes: japon\n",
      "Le nombre de consonnes dans votre mot est de: 3.\n"
     ]
    }
   ],
   "source": [
    "word = input(\"Donner un mot dont vous voulez compter le nombre de consonnes: \")\n",
    "word = word.upper()\n",
    "\n",
    "# Création d'un compteur qui compte le nombre de lettre qui ne sont pas des voyelles\n",
    "\n",
    "voyelles = [\"A\", \"E\", \"I\", \"O\", \"U\", \"Y\"]\n",
    "\n",
    "nbre_consonnes = 0\n",
    "for letters in word: \n",
    "    if letters not in voyelles: \n",
    "        nbre_consonnes += 1\n",
    "\n",
    "print(f'Le nombre de consonnes dans votre mot est de: {nbre_consonnes}.')"
   ]
  },
  {
   "cell_type": "markdown",
   "metadata": {},
   "source": [
    "<h5> Exercice 9- Encoder et décrypter un nom : </h5>"
   ]
  },
  {
   "cell_type": "markdown",
   "metadata": {},
   "source": [
    "Nous vous proposons d’encoder le nom d’un agent secret en utilisant le codage suivant : chaque lettre sera décalée de trois places dans l’ordre alphabétique. Ainsi, nous avons A→D,B→E, Y→B et Z→C. Demandez le nom de l’agent et affichez son nom encodé. Ensuite, demandez d’entrer un nom encodé et appliquez la méthode inverse pour le décoder."
   ]
  },
  {
   "cell_type": "code",
   "execution_count": 96,
   "metadata": {},
   "outputs": [
    {
     "name": "stdout",
     "output_type": "stream",
     "text": [
      "Donnez votre nom d'agent à crypter: mohammad\n",
      "Votre nom d'agent crypté est:  PRKDPPDG.Donner votre nom crypté à décoder: prkdppdg\n",
      "Votre nom d'agent décrypté est: MOHAMMAD."
     ]
    }
   ],
   "source": [
    "nom = input(\"Donnez votre nom d'agent à crypter: \")\n",
    "nom = nom.upper()\n",
    "\n",
    "# Transforme le nom alphabétique au format Unicode \n",
    "unicode_name = []\n",
    "for i in range(len(nom)): \n",
    "    unicode_code = ord(nom[i])\n",
    "    unicode_name.append(unicode_code)    \n",
    "\n",
    "\n",
    "# Ajoute 3 au nom au format Unicode pour le crypter \n",
    "encoded = []\n",
    "for code in unicode_name: \n",
    "    added = code + 3\n",
    "    if added == 91: \n",
    "        added = 65\n",
    "    elif added == 92: \n",
    "        added = 66\n",
    "    elif added == 93: \n",
    "        added = 67\n",
    "    encoded.append(added)\n",
    "\n",
    "# Transforme le nom au format Unicode en nom au format alphabétique \n",
    "crypted = \"\"\n",
    "for numbers in encoded: \n",
    "    crypt = chr(numbers)\n",
    "    crypted = crypted + crypt\n",
    "print(f\"Votre nom d'agent crypté est:  {crypted.upper()}.\", end=\"\")\n",
    "\n",
    "# Nom crypté à décoder\n",
    "crypted_name = input(\"Donner votre nom crypté à décoder: \")\n",
    "crypter_name = crypted_name.upper()\n",
    "\n",
    "#Tranforme le nom crypté alphabétique au format Unicode \n",
    "unicode_crypted_name = []\n",
    "for i in range(len(crypted_name)): \n",
    "    crypted_code = ord(crypted_name[i])\n",
    "    unicode_crypted_name.append(crypted_code)\n",
    "\n",
    "\n",
    "# Enlève 3 au nom au format Unicode pour le décrypter\n",
    "decoded = []\n",
    "for decode in unicode_crypted_name: \n",
    "    removed = decode - 3\n",
    "    if removed == 65: \n",
    "        removed = 91\n",
    "    elif removed == 66:\n",
    "        removed = 92\n",
    "    elif removed == 67:\n",
    "        removed = 93\n",
    "    decoded.append(removed)\n",
    "\n",
    "# Transforme le nom au format Unicode en nom au format lettre\n",
    "decrypted = \"\"\n",
    "for numbers in decoded: \n",
    "    decrypt = chr(numbers)\n",
    "    decrypted = decrypted + decrypt\n",
    "print(f\"Votre nom d'agent décrypté est: {decrypted.upper()}.\", end=\"\")"
   ]
  },
  {
   "cell_type": "markdown",
   "metadata": {},
   "source": [
    "<h5> Exercice 9BIS- Encoder et décrypter un nom : </h5>"
   ]
  },
  {
   "cell_type": "markdown",
   "metadata": {},
   "source": [
    "Il s'agit d'une deuxième méthode plus courte et plus efficace."
   ]
  },
  {
   "cell_type": "code",
   "execution_count": 99,
   "metadata": {},
   "outputs": [
    {
     "name": "stdout",
     "output_type": "stream",
     "text": [
      "Donnez votre nom d'agent à crypter: mohammad\n",
      "Votre nom d'agent crypté est:  PRKDPPDG.Donner votre nom crypté à décoder: prkdppdg\n",
      "Votre nom d'agent décrypté est: MOHAMMAD."
     ]
    }
   ],
   "source": [
    "nom = input(\"Donnez votre nom d'agent à crypter: \")\n",
    "nom = nom.upper()\n",
    "\n",
    "# Création d'une variable qu'on incrémente directement des lettres encodées en une ligne par combinaison\n",
    "nom_encode = \"\"\n",
    "for letter in nom: \n",
    "    nom_encode = nom_encode + chr(ord(letter)+3)\n",
    "print(f\"Votre nom d'agent crypté est:  {nom_encode.upper()}.\", end=\"\")\n",
    "\n",
    "name_to_decode = input(\"Donner votre nom crypté à décoder: \")\n",
    "name_to_decode = name_to_decode.upper()\n",
    "\n",
    "# Création d'une variable qu'on incrémente directement des lettres décodées en une ligne par combinaison\n",
    "nom_decode = \"\"\n",
    "for letter in name_to_decode: \n",
    "    nom_decode = nom_decode + chr(ord(letter)-3)\n",
    "print(f\"Votre nom d'agent décrypté est: {nom_decode.upper()}.\", end=\"\")"
   ]
  },
  {
   "cell_type": "markdown",
   "metadata": {},
   "source": [
    "<h5> Exercice 10- Afficher les balises d'une page HTML : </h5>"
   ]
  },
  {
   "cell_type": "code",
   "execution_count": 107,
   "metadata": {},
   "outputs": [
    {
     "name": "stdout",
     "output_type": "stream",
     "text": [
      "html\n",
      "head\n",
      "title\n",
      "/title\n",
      "/head\n",
      "body\n",
      "/body\n",
      "/html\n"
     ]
    }
   ],
   "source": [
    "page = \"<html> <head> <title> Mon Titre </title> </head> <body> Texte sur la page </body> </html>\"\n",
    "\n",
    "# Création d'une boucle for qui parcoure la variable \"page\"\n",
    "# Utilisation de le méthode de slicing pour n'afficher que les lettres entre les indices u et v\n",
    "# Une fois la balise d'ouverture trouvée, u est l'index de cette balise. \n",
    "# v est alors l'index de la balise de fermeture en démarrant de l'index de la balise d'ouverture\n",
    "\n",
    "for i in range(len(page)): \n",
    "    if page[i] == \"<\": \n",
    "        u = i \n",
    "        v = page.find('>', i)\n",
    "        print(page[u+1:v])"
   ]
  },
  {
   "cell_type": "markdown",
   "metadata": {},
   "source": [
    "<h5> Exercice 11- Afficher le calendrier du mois : </h5>"
   ]
  },
  {
   "cell_type": "code",
   "execution_count": 145,
   "metadata": {},
   "outputs": [
    {
     "name": "stdout",
     "output_type": "stream",
     "text": [
      "Entrez le nombre de jours dans le mois: 30\n",
      "Entrez le premier jour du mois: 1 pour lundi, 7 pour dimanche.3\n",
      "LUN MAR MER JEU VEN SAM DIM\n",
      "          1   2   3   4   5 \n",
      "  6   7   8   9  10  11  12 \n",
      " 13  14  15  16  17  18  19 \n",
      " 20  21  22  23  24  25  26 \n",
      " 27  28  29  30 "
     ]
    }
   ],
   "source": [
    "nbre_jours = int(input(\"Entrez le nombre de jours dans le mois: \"))\n",
    "premier_jour = int(input(\"Entrez le premier jour du mois: 1 pour lundi, 7 pour dimanche.\"))\n",
    "\n",
    "# Print la première ligne avec les jours de la semaine\n",
    "print(\"LUN MAR MER JEU VEN SAM DIM\")\n",
    "\n",
    "# Si le premier jour est MER (chiffre 3) alors on doit avoir 3-1 colonnes vides avant MER \n",
    "colonnes_vides = premier_jour - 1\n",
    "print(\"    \" * colonnes_vides, end = \"\")\n",
    "\n",
    "# Définition d'une colonne courante qui est initialisée avec le numéro de la colonne du premier jour choisi\n",
    "colonne_courante = premier_jour\n",
    "\n",
    "# Création d'une boucle for\n",
    "# Utlisation de \"{0:3d} \".format() qui formate le numéro du jour de sorte qu'il prenne l'espacement de 3 caractères \n",
    "# En réalité 3d définit le nombre de décimaux mais ici on travail avec des entiers donc c'est un espacement.\n",
    "for numero_jour in range(1, nbre_jours + 1 ): \n",
    "    print(\"{0:3d} \".format(numero_jour), end = \"\")\n",
    "    \n",
    "# On incrémente la colonne_courante de 1 à chaque jour qui passe \n",
    "    colonne_courante = colonne_courante + 1\n",
    "    \n",
    "# Si on dépasse dimanche soit colonne_courante = 7 on revient à lundi qui définit par le choix d'input comme étant la colonne 1\n",
    "    if colonne_courante == 8: \n",
    "        print()\n",
    "        colonne_courante = 1"
   ]
  },
  {
   "cell_type": "markdown",
   "metadata": {},
   "source": [
    "<h5> Exercice 12- Statistiques avec pile ou face : </h5>"
   ]
  },
  {
   "cell_type": "markdown",
   "metadata": {},
   "source": [
    "Simulez un nombre donné de tirages pile ou face et calculez la proportion de chaque type de tirage."
   ]
  },
  {
   "cell_type": "code",
   "execution_count": 102,
   "metadata": {},
   "outputs": [
    {
     "name": "stdout",
     "output_type": "stream",
     "text": [
      "Donnez un nombre de tirage: 10\n",
      "Le pourcentage de tirage pile est: 60.0%.\n",
      "Le pourcentage de tirage face est: 40.0%.\n"
     ]
    }
   ],
   "source": [
    "import random\n",
    "\n",
    "nbre_tirage = int(input(\"Donnez un nombre de tirage: \"))\n",
    "\n",
    "# Création de deux listes qui contiendront le nombre de pile et de face\n",
    "nbr_pile = []\n",
    "nbr_face = []\n",
    "\n",
    "for i in range(nbre_tirage): \n",
    "    pileface = random.randint(0,1)\n",
    "    if pileface == 0: \n",
    "        nbr_pile.append(pileface)\n",
    "    else: \n",
    "        nbr_face.append(pileface)\n",
    "        \n",
    "# Calcul du pourcentage en fonction du nombre de tirage choisi et de la longueur des listes précédemment créées\n",
    "pourcentage_pile = (len(nbr_pile)*100)/nbre_tirage\n",
    "pourcentage_face = (len(nbr_face)*100)/nbre_tirage\n",
    "\n",
    "print(f\"Le pourcentage de tirage pile est: {pourcentage_pile}%.\")\n",
    "print(f\"Le pourcentage de tirage face est: {pourcentage_face}%.\")"
   ]
  }
 ],
 "metadata": {
  "kernelspec": {
   "display_name": "Python 3",
   "language": "python",
   "name": "python3"
  },
  "language_info": {
   "codemirror_mode": {
    "name": "ipython",
    "version": 3
   },
   "file_extension": ".py",
   "mimetype": "text/x-python",
   "name": "python",
   "nbconvert_exporter": "python",
   "pygments_lexer": "ipython3",
   "version": "3.8.5"
  }
 },
 "nbformat": 4,
 "nbformat_minor": 4
}
