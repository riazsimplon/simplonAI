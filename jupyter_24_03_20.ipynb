{
 "cells": [
  {
   "cell_type": "code",
   "execution_count": 1,
   "metadata": {},
   "outputs": [
    {
     "name": "stdout",
     "output_type": "stream",
     "text": [
      "1\n"
     ]
    }
   ],
   "source": [
    "a = 1\n",
    "print(a)"
   ]
  },
  {
   "cell_type": "code",
   "execution_count": 2,
   "metadata": {},
   "outputs": [
    {
     "name": "stdout",
     "output_type": "stream",
     "text": [
      "<class 'int'>\n",
      "<class 'float'>\n",
      "<class 'str'>\n"
     ]
    }
   ],
   "source": [
    "# lES TYPES DES VARIABLES. Mais c'est plutôt des classes d'objets. \n",
    "\n",
    "a = 1\n",
    "print(type(a))\n",
    "\n",
    "b = 1.0\n",
    "print(type(b))\n",
    "\n",
    "c = \"Bonjour\"\n",
    "print(type (c))"
   ]
  },
  {
   "cell_type": "code",
   "execution_count": 3,
   "metadata": {},
   "outputs": [
    {
     "name": "stdout",
     "output_type": "stream",
     "text": [
      "<class 'float'>\n",
      "4.140000000000001\n"
     ]
    }
   ],
   "source": [
    "# Opération entre types différents. \n",
    "a = 1\n",
    "b = 3.14\n",
    "\n",
    "c = a + b \n",
    "print(type(c))\n",
    "print(c)"
   ]
  },
  {
   "cell_type": "code",
   "execution_count": 5,
   "metadata": {},
   "outputs": [
    {
     "name": "stdout",
     "output_type": "stream",
     "text": [
      "4.5\n",
      "<class 'float'>\n",
      "4\n",
      "<class 'int'>\n"
     ]
    }
   ],
   "source": [
    "# Opération entre types différents \n",
    "a = 9\n",
    "b = a/2\n",
    "print(b)\n",
    "print(type(b))\n",
    "\n",
    "b = a//2\n",
    "print(b)\n",
    "print(type(b))"
   ]
  },
  {
   "cell_type": "code",
   "execution_count": 6,
   "metadata": {},
   "outputs": [
    {
     "name": "stdout",
     "output_type": "stream",
     "text": [
      "124\n",
      "<class 'int'>\n"
     ]
    }
   ],
   "source": [
    "# Convertir un type en un autre ~ str to int \n",
    "\n",
    "a = '123'\n",
    "b = int(a)\n",
    "print(b+1)\n",
    "print(type (b))"
   ]
  },
  {
   "cell_type": "code",
   "execution_count": 7,
   "metadata": {},
   "outputs": [
    {
     "name": "stdout",
     "output_type": "stream",
     "text": [
      "124.5\n",
      "<class 'float'>\n"
     ]
    }
   ],
   "source": [
    "# Convertir un type en un autre ~ str to float\n",
    "a = '123.5'\n",
    "b = float(a)\n",
    "print(b+1)\n",
    "print(type(b))"
   ]
  },
  {
   "cell_type": "code",
   "execution_count": 8,
   "metadata": {},
   "outputs": [
    {
     "name": "stdout",
     "output_type": "stream",
     "text": [
      "123\n",
      "<class 'int'>\n"
     ]
    }
   ],
   "source": [
    "# Convertir un type en un autre ~ float to int \n",
    "a = 123.5 \n",
    "b = int(a)\n",
    "print(b)\n",
    "print(type(b))"
   ]
  },
  {
   "cell_type": "code",
   "execution_count": 9,
   "metadata": {},
   "outputs": [
    {
     "name": "stdout",
     "output_type": "stream",
     "text": [
      "<class 'str'>\n",
      "<class 'str'>\n",
      "7 3.14\n"
     ]
    }
   ],
   "source": [
    "# Convertir un type en un autre ~ int/float to str\n",
    "a = 7\n",
    "b = 3.14 \n",
    "\n",
    "c = str(a)\n",
    "d = str(b)\n",
    "\n",
    "print(type (c))\n",
    "print(type (d))\n",
    "print(c, d)"
   ]
  },
  {
   "cell_type": "code",
   "execution_count": 10,
   "metadata": {},
   "outputs": [
    {
     "name": "stdout",
     "output_type": "stream",
     "text": [
      "False\n",
      "True\n",
      "False\n",
      "True\n",
      "False\n"
     ]
    }
   ],
   "source": [
    "# Déterminez la valeur retournée, True ou False, par chaque expression conditionnelle: \n",
    "A = B = True \n",
    "C = D = False \n",
    "print((A or B) and (C or D))\n",
    "print(A or (B and C))\n",
    "print(A and B and (C or D))\n",
    "print( (A and B) or (not C))\n",
    "print((not A) or D)"
   ]
  },
  {
   "cell_type": "code",
   "execution_count": 13,
   "metadata": {},
   "outputs": [
    {
     "name": "stdout",
     "output_type": "stream",
     "text": [
      "7\n",
      "-2\n",
      "7\n",
      "17\n",
      "8.988\n"
     ]
    }
   ],
   "source": [
    "# Donnez les valeur retournées par chacune des expressions suivantes: \n",
    "print( abs(-3) + max (3,4))\n",
    "print(min (4,8, 0, -2))\n",
    "print(max (min (7, 8), min(4, 6)))\n",
    "print(round(8.324) + round(8.88))\n",
    "print(round (8.98795136,3))"
   ]
  },
  {
   "cell_type": "code",
   "execution_count": 14,
   "metadata": {},
   "outputs": [
    {
     "name": "stdout",
     "output_type": "stream",
     "text": [
      "10.0\n"
     ]
    }
   ],
   "source": [
    "print(round (8.999, -1))"
   ]
  },
  {
   "cell_type": "code",
   "execution_count": 15,
   "metadata": {},
   "outputs": [
    {
     "name": "stdout",
     "output_type": "stream",
     "text": [
      "10.0\n"
     ]
    }
   ],
   "source": [
    "print(round (5.777, -1))"
   ]
  },
  {
   "cell_type": "markdown",
   "metadata": {},
   "source": [
    "Méthode de résolution d'une équation \n",
    "Trouver les solutions de 3x**2-7x = 23"
   ]
  },
  {
   "cell_type": "code",
   "execution_count": 16,
   "metadata": {},
   "outputs": [],
   "source": [
    "import math \n",
    "def calculerDelta(a,b,c):\n",
    "   return b*b-4*a*c\n",
    "\n",
    "def resoudreEquationSecondDegre(a,b,c):\n",
    "   delta = calculerDelta(a,b,c)\n",
    "   if delta > 0:\n",
    "      racineDeDelta=math.sqrt(delta)\n",
    "      retour = [(-b-racineDeDelta)/(2*a),(-b+racineDeDelta)/(2*a)]\n",
    "   elif delta < 0:\n",
    "      retour = []  #liste vide\n",
    "   else:\n",
    "      retour = [-b/(2*a)] #liste d'un seul élément\n",
    "   return retour"
   ]
  },
  {
   "cell_type": "code",
   "execution_count": 20,
   "metadata": {},
   "outputs": [
    {
     "data": {
      "text/plain": [
       "325"
      ]
     },
     "execution_count": 20,
     "metadata": {},
     "output_type": "execute_result"
    }
   ],
   "source": [
    "calculerDelta(3,-7,-23)"
   ]
  },
  {
   "cell_type": "code",
   "execution_count": 21,
   "metadata": {},
   "outputs": [
    {
     "data": {
      "text/plain": [
       "[-1.837959396219991, 4.171292729553325]"
      ]
     },
     "execution_count": 21,
     "metadata": {},
     "output_type": "execute_result"
    }
   ],
   "source": [
    "resoudreEquationSecondDegre(3,-7, -23)"
   ]
  },
  {
   "cell_type": "code",
   "execution_count": 5,
   "metadata": {},
   "outputs": [
    {
     "name": "stdout",
     "output_type": "stream",
     "text": [
      "Your delta value is: 325.\n",
      "Your x1 value is: -1.837959396219991.\n",
      "Your x2 value is: 4.171292729553325.\n"
     ]
    }
   ],
   "source": [
    "import math \n",
    "# Solve the following equation: 3x²-7x-23 = 0\n",
    "\n",
    "deltavalue = (-7*-7)-4*3*(-23)\n",
    "x1 = (7 - (math.sqrt(deltavalue)))/(2*3)\n",
    "x2 = (7 + (math.sqrt(deltavalue)))/(2*3)\n",
    "\n",
    "print(f'Your delta value is: {deltavalue}.')\n",
    "print(f'Your x1 value is: {x1}.')\n",
    "print(f'Your x2 value is: {x2}.')"
   ]
  },
  {
   "cell_type": "code",
   "execution_count": 6,
   "metadata": {},
   "outputs": [
    {
     "name": "stdout",
     "output_type": "stream",
     "text": [
      "Donner la valeur du rayon: 10\n",
      "Donner la valeur de la hauteur: 3\n",
      "Le volume de votre cône est de: 314.1592653589793.\n"
     ]
    }
   ],
   "source": [
    "# Volume d'un cone droit = (pi.R**2*H)/3\n",
    "import math\n",
    "rayon = input(\"Donner la valeur du rayon: \")\n",
    "rayon = int(rayon)\n",
    "hauteur = input(\"Donner la valeur de la hauteur: \")\n",
    "hauteur = int(hauteur)\n",
    "print(f'Le volume de votre cône est de: {((rayon*rayon)*(math.pi)*(hauteur))/3}.')"
   ]
  }
 ],
 "metadata": {
  "kernelspec": {
   "display_name": "Python 3",
   "language": "python",
   "name": "python3"
  },
  "language_info": {
   "codemirror_mode": {
    "name": "ipython",
    "version": 3
   },
   "file_extension": ".py",
   "mimetype": "text/x-python",
   "name": "python",
   "nbconvert_exporter": "python",
   "pygments_lexer": "ipython3",
   "version": "3.8.5"
  }
 },
 "nbformat": 4,
 "nbformat_minor": 4
}
